{
 "cells": [
  {
   "cell_type": "markdown",
   "metadata": {},
   "source": [
    "Get the target image dimensions"
   ]
  },
  {
   "cell_type": "code",
   "execution_count": 7,
   "metadata": {},
   "outputs": [
    {
     "data": {
      "text/plain": [
       "(52, 320)"
      ]
     },
     "execution_count": 7,
     "metadata": {},
     "output_type": "execute_result"
    }
   ],
   "source": [
    "from PIL import Image\n",
    "import os\n",
    "\n",
    "# Load the image that we want to match the size of\n",
    "target_image_path = 'assets/sprites/pipe-green.png'\n",
    "target_image = Image.open(target_image_path)\n",
    "\n",
    "# Get the size of the target image\n",
    "target_image_size = target_image.size\n",
    "target_image_size"
   ]
  },
  {
   "cell_type": "code",
   "execution_count": 9,
   "metadata": {},
   "outputs": [],
   "source": [
    "import os\n",
    "from PIL import Image\n",
    "\n",
    "image_names = ['angry_rachel_1.png', \"angry_rachel_2.png\", 'angry_del.png']\n",
    "# Define the directory where the images are stored and where the resized images will be saved\n",
    "image_directory = 'assets/sprites/'\n",
    "target_image_size = (52, 320)  # This should be set to your target dimensions\n",
    "\n",
    "for image_name in image_names:\n",
    "    # Generate the full path for each image\n",
    "    source_image_path = os.path.join(image_directory, image_name)\n",
    "    \n",
    "    # Open each image individually\n",
    "    with Image.open(source_image_path) as source_image:\n",
    "        # Resize the source image to the size of the target image\n",
    "        resized_source_image = source_image.resize(target_image_size)\n",
    "        \n",
    "        # Generate the full path for the resized image\n",
    "        # If you want to save with a new name, change 'image_name' to something else\n",
    "        resized_image_path = os.path.join(image_directory, f\"resized_{image_name}\")\n",
    "        \n",
    "        # Save the resized image\n",
    "        resized_source_image.save(resized_image_path)\n",
    "\n"
   ]
  }
 ],
 "metadata": {
  "kernelspec": {
   "display_name": "venv",
   "language": "python",
   "name": "python3"
  },
  "language_info": {
   "codemirror_mode": {
    "name": "ipython",
    "version": 3
   },
   "file_extension": ".py",
   "mimetype": "text/x-python",
   "name": "python",
   "nbconvert_exporter": "python",
   "pygments_lexer": "ipython3",
   "version": "3.11.2"
  }
 },
 "nbformat": 4,
 "nbformat_minor": 2
}
